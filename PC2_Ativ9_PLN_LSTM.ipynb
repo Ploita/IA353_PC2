{
  "cells": [
    {
      "attachments": {},
      "cell_type": "markdown",
      "metadata": {
        "id": "XP2x0pxJ9uJK"
      },
      "source": [
        "## **Notebook #9**\n",
        "## Encoder-Decoder LSTM for Natural Language Processing.\n",
        "**Professor:** Fernando J. Von Zuben <br>\n",
        "**Aluno(a):** Arthur Felipe dos Santos Fernandes\n"
      ]
    },
    {
      "cell_type": "code",
      "execution_count": 3,
      "metadata": {
        "id": "1xumdIFHDdrn"
      },
      "outputs": [],
      "source": [
        "from random import seed\n",
        "from random import randint\n",
        "from numpy import array\n",
        "from numpy import argmax"
      ]
    },
    {
      "cell_type": "code",
      "execution_count": 4,
      "metadata": {
        "id": "fspvFmS6Ddro"
      },
      "outputs": [],
      "source": [
        "def random_sum_pairs(n_examples, n_numbers, largest):\n",
        "    X,y = list(), list()\n",
        "    for _ in range(n_examples):\n",
        "        in_pattern=[randint(1,largest) for _ in range(n_numbers)]\n",
        "        out_pattern = sum(in_pattern)\n",
        "        X.append(in_pattern)\n",
        "        y.append(out_pattern)\n",
        "    return X,y"
      ]
    },
    {
      "cell_type": "code",
      "execution_count": 27,
      "metadata": {
        "id": "zzr9HXh8Ddrp"
      },
      "outputs": [
        {
          "name": "stdout",
          "output_type": "stream",
          "text": [
            "[[3, 10]] [13]\n"
          ]
        }
      ],
      "source": [
        "seed(1)\n",
        "n_samples =1\n",
        "n_numbers = 2\n",
        "largest = 10\n",
        "X,y = random_sum_pairs(n_samples, n_numbers, largest)\n",
        "print(X,y)"
      ]
    },
    {
      "cell_type": "code",
      "execution_count": 6,
      "metadata": {
        "id": "QWTgrmmuDdrp"
      },
      "outputs": [],
      "source": [
        "from math import ceil\n",
        "from math import log10"
      ]
    },
    {
      "cell_type": "code",
      "execution_count": 7,
      "metadata": {
        "id": "NbBlwQTvDdrp"
      },
      "outputs": [],
      "source": [
        "def to_string(X,y,n_numbers,largest):\n",
        "    max_length = n_numbers*ceil(log10(largest+1)) + n_numbers - 1\n",
        "    Xstr = list()\n",
        "    for pattern in X:\n",
        "        strp = '+'.join([str(n) for n in pattern])\n",
        "        strp = ''.join([' ' for _ in range(max_length-len(strp))]) + strp\n",
        "        Xstr.append(strp)\n",
        "    maxlength = ceil(log10(n_numbers*(largest+1)))\n",
        "    ystr = list()\n",
        "    for pattern in y:\n",
        "        strp = str(pattern)\n",
        "        strp = ''.join([' 'for _ in range(maxlength-len(strp))]) + strp\n",
        "        ystr.append(strp)\n",
        "    return Xstr, ystr"
      ]
    },
    {
      "cell_type": "code",
      "execution_count": 28,
      "metadata": {
        "id": "fAVqEpSsDdrq"
      },
      "outputs": [],
      "source": [
        "seed(1)\n",
        "n_samples = 1\n",
        "n_numbers = 2\n",
        "largest = 10"
      ]
    },
    {
      "cell_type": "code",
      "execution_count": 29,
      "metadata": {
        "id": "u-m3UD5uDdrq"
      },
      "outputs": [
        {
          "name": "stdout",
          "output_type": "stream",
          "text": [
            "[[3, 10]] [13]\n",
            "[' 3+10'] ['13']\n"
          ]
        }
      ],
      "source": [
        "X,y = random_sum_pairs(n_samples, n_numbers, largest)\n",
        "print(X,y)\n",
        "\n",
        "X,y = to_string(X,y,n_numbers,largest)\n",
        "print(X,y)"
      ]
    },
    {
      "cell_type": "code",
      "execution_count": 10,
      "metadata": {
        "id": "qwQXLtpfDdrq"
      },
      "outputs": [],
      "source": [
        "alphabet = ['0','1','2','3','4','5','6','7','8','9','+',' ']"
      ]
    },
    {
      "cell_type": "code",
      "execution_count": 11,
      "metadata": {
        "id": "GXKcXm8JDdrq"
      },
      "outputs": [],
      "source": [
        "def integer_encode(X,y,alphabet):\n",
        "    char_to_int = dict((c,i) for i,c in enumerate(alphabet))\n",
        "    Xenc = list()\n",
        "    for pattern in X:\n",
        "        integer_encoded = [char_to_int[char] for char in pattern]\n",
        "        Xenc.append(integer_encoded)\n",
        "    yenc = list()\n",
        "    for pattern in y:\n",
        "        integer_encoded = [char_to_int[char] for char in pattern]\n",
        "        yenc.append(integer_encoded)\n",
        "    return Xenc, yenc"
      ]
    },
    {
      "cell_type": "code",
      "execution_count": 30,
      "metadata": {
        "id": "BjD9y1M2Ddrr"
      },
      "outputs": [],
      "source": [
        "X,y = integer_encode(X,y,alphabet)"
      ]
    },
    {
      "cell_type": "code",
      "execution_count": 31,
      "metadata": {
        "id": "v02pwsYYDdrr"
      },
      "outputs": [
        {
          "name": "stdout",
          "output_type": "stream",
          "text": [
            "[[11, 3, 10, 1, 0]] [[1, 3]]\n"
          ]
        }
      ],
      "source": [
        "print(X,y)"
      ]
    },
    {
      "cell_type": "code",
      "execution_count": 14,
      "metadata": {
        "id": "vad64QkqDdrr"
      },
      "outputs": [],
      "source": [
        "def one_hot_encode(X,y,max_int):\n",
        "    Xenc = list()\n",
        "    for seq in X:\n",
        "        pattern = list()\n",
        "        for index in seq:\n",
        "            vector = [0 for _ in range(max_int)]\n",
        "            vector[index] = 1\n",
        "            pattern.append(vector)\n",
        "        Xenc.append(pattern)\n",
        "        \n",
        "    yenc = list()\n",
        "    for seq in y:\n",
        "        pattern = list()\n",
        "        for index in seq:\n",
        "            vector = [0 for _ in range(max_int)]\n",
        "            vector[index] = 1\n",
        "            pattern.append(vector)\n",
        "        yenc.append(pattern)\n",
        "    return Xenc, yenc"
      ]
    },
    {
      "cell_type": "code",
      "execution_count": 32,
      "metadata": {
        "id": "W_tCfgMPDdrr"
      },
      "outputs": [],
      "source": [
        "X,y = one_hot_encode(X,y,len(alphabet))"
      ]
    },
    {
      "cell_type": "code",
      "execution_count": 34,
      "metadata": {
        "id": "R7VdCFIgDdrr"
      },
      "outputs": [
        {
          "name": "stdout",
          "output_type": "stream",
          "text": [
            "[[[0, 0, 0, 0, 0, 0, 0, 0, 0, 0, 0, 1], [0, 0, 0, 1, 0, 0, 0, 0, 0, 0, 0, 0], [0, 0, 0, 0, 0, 0, 0, 0, 0, 0, 1, 0], [0, 1, 0, 0, 0, 0, 0, 0, 0, 0, 0, 0], [1, 0, 0, 0, 0, 0, 0, 0, 0, 0, 0, 0]]]\n"
          ]
        }
      ],
      "source": [
        "print(X)"
      ]
    },
    {
      "cell_type": "code",
      "execution_count": 17,
      "metadata": {
        "id": "xVdn4BqyDdrs"
      },
      "outputs": [],
      "source": [
        "def generate_data(n_samples,n_numbers, largest, alphabet):\n",
        "    X,y = random_sum_pairs(n_samples,n_numbers,largest)\n",
        "    X,y = to_string(X,y,n_numbers,largest)\n",
        "    X,y = integer_encode(X,y,alphabet)\n",
        "    X,y = one_hot_encode(X,y,len(alphabet))\n",
        "    X,y = array(X), array(y)\n",
        "    return X,y"
      ]
    },
    {
      "cell_type": "code",
      "execution_count": 18,
      "metadata": {
        "id": "RDp9JqNkDdrs"
      },
      "outputs": [],
      "source": [
        "def invert(seq,alphabet):\n",
        "    int_to_char = dict((i,c) for i,c in enumerate(alphabet))\n",
        "    strings  = list()\n",
        "    for pattern in seq:\n",
        "        string = int_to_char[argmax(pattern)]\n",
        "        strings.append(string)\n",
        "    return ''.join(strings)"
      ]
    },
    {
      "cell_type": "code",
      "execution_count": 19,
      "metadata": {
        "id": "7BqRNPCkDdrs"
      },
      "outputs": [],
      "source": [
        "n_terms = 3\n",
        "largest = 10\n",
        "alphabet = [str(x) for x in range(10)] + ['+', ' ']"
      ]
    },
    {
      "cell_type": "code",
      "execution_count": 20,
      "metadata": {
        "id": "PijAMEFxDdrs"
      },
      "outputs": [],
      "source": [
        "n_chars = len(alphabet)\n",
        "n_in_seq_length = n_terms*ceil(log10(largest+1)) +n_terms-1\n",
        "n_out_seq_length = ceil(log10(n_terms*(largest+1)))"
      ]
    },
    {
      "cell_type": "code",
      "execution_count": 21,
      "metadata": {
        "id": "RR9pPe1oDdrs"
      },
      "outputs": [],
      "source": [
        "from keras.models import Sequential\n",
        "from keras.layers import LSTM\n",
        "from keras.layers import RepeatVector\n",
        "from keras.layers import TimeDistributed\n",
        "from keras.layers import Dense"
      ]
    },
    {
      "cell_type": "code",
      "execution_count": 22,
      "metadata": {
        "id": "Gxs5FSIwDdrs"
      },
      "outputs": [
        {
          "name": "stdout",
          "output_type": "stream",
          "text": [
            "Model: \"sequential\"\n",
            "_________________________________________________________________\n",
            " Layer (type)                Output Shape              Param #   \n",
            "=================================================================\n",
            " lstm (LSTM)                 (None, 75)                26400     \n",
            "                                                                 \n",
            " repeat_vector (RepeatVector  (None, 2, 75)            0         \n",
            " )                                                               \n",
            "                                                                 \n",
            " lstm_1 (LSTM)               (None, 2, 50)             25200     \n",
            "                                                                 \n",
            " time_distributed (TimeDistr  (None, 2, 12)            612       \n",
            " ibuted)                                                         \n",
            "                                                                 \n",
            "=================================================================\n",
            "Total params: 52,212\n",
            "Trainable params: 52,212\n",
            "Non-trainable params: 0\n",
            "_________________________________________________________________\n",
            "None\n"
          ]
        }
      ],
      "source": [
        "model = Sequential()\n",
        "model.add(LSTM(75, input_shape=(n_in_seq_length,n_chars)))\n",
        "model.add(RepeatVector(n_out_seq_length))\n",
        "model.add(LSTM(50,return_sequences=True))\n",
        "model.add(TimeDistributed(Dense(n_chars,activation='softmax')))\n",
        "model.compile(loss='categorical_crossentropy',optimizer='adam',metrics=['accuracy'])\n",
        "print(model.summary())"
      ]
    },
    {
      "cell_type": "code",
      "execution_count": 23,
      "metadata": {
        "id": "vG1QwiwFDdrt"
      },
      "outputs": [
        {
          "name": "stdout",
          "output_type": "stream",
          "text": [
            "7500/7500 [==============================] - 30s 4ms/step - loss: 0.4068 - accuracy: 0.8763\n"
          ]
        },
        {
          "data": {
            "text/plain": [
              "<keras.callbacks.History at 0x1ee77f11090>"
            ]
          },
          "execution_count": 23,
          "metadata": {},
          "output_type": "execute_result"
        }
      ],
      "source": [
        "X,y = generate_data(75000,n_terms,largest,alphabet)\n",
        "model.fit(X,y,epochs=1,batch_size=10)"
      ]
    },
    {
      "cell_type": "code",
      "execution_count": 24,
      "metadata": {
        "id": "pBWMp85oDdrt"
      },
      "outputs": [
        {
          "name": "stdout",
          "output_type": "stream",
          "text": [
            "Loss: 0.027486, Accuracy: 100.000000\n"
          ]
        }
      ],
      "source": [
        "X,y = generate_data(100,n_terms,largest,alphabet)\n",
        "loss,acc = model.evaluate(X,y,verbose=0)\n",
        "print('Loss: %f, Accuracy: %f' %(loss,acc*100))"
      ]
    },
    {
      "cell_type": "code",
      "execution_count": 25,
      "metadata": {
        "id": "XjorRbDxDdrt"
      },
      "outputs": [
        {
          "name": "stdout",
          "output_type": "stream",
          "text": [
            "   3+7+5 = 15 (expect 15)\n",
            "  2+10+6 = 18 (expect 18)\n",
            "   4+5+9 = 18 (expect 18)\n",
            "   2+2+4 =  8 (expect  8)\n",
            " 10+7+10 = 27 (expect 27)\n",
            "  10+2+3 = 15 (expect 15)\n",
            "   8+4+1 = 13 (expect 13)\n",
            "   8+1+3 = 12 (expect 12)\n",
            "   5+9+6 = 20 (expect 20)\n",
            "   1+5+8 = 14 (expect 14)\n"
          ]
        }
      ],
      "source": [
        "for _ in range(10):\n",
        "    X,y = generate_data(1,n_terms,largest,alphabet)\n",
        "    yhat = model.predict(X,verbose=0)\n",
        "    in_seq = invert(X[0],alphabet)\n",
        "    out_seq = invert(y[0],alphabet)\n",
        "    predicted = invert(yhat[0],alphabet)\n",
        "    print('%s = %s (expect %s)' %(in_seq,predicted,out_seq))"
      ]
    },
    {
      "attachments": {},
      "cell_type": "markdown",
      "metadata": {},
      "source": [
        "###  Explique como são gerados os dados de treinamento\n",
        "Os dados são gerados a partir da função generate_data, que engloba um conjunto de tarefas distribuídos em funções menores, a começar com random_sum_pairs que gera aleatoriamente as operações de soma e seus respectivos resultados; em seguida a função to_string converte essas operações em strings e adiciona identação; a função integer_encode converte cada caractere da string em um inteiro único enquanto que a função one_hot_encode converte esses valores em um vetor one hot ( 1 para o elemento apresentado e 0 para todos os demais)"
      ]
    },
    {
      "attachments": {},
      "cell_type": "markdown",
      "metadata": {},
      "source": [
        "### Explique como uma calculadora simples pode operar baseada no conceito de tradução de frase\n",
        "A ideia consiste no fato de que cada elemento de que uma operação aciona uma trajetória no espaço semântico do bloco LSTM, portanto, o valor correspondente da operação é equivalente ao ponto final atingido pela trajetória no espaço semântico."
      ]
    }
  ],
  "metadata": {
    "colab": {
      "provenance": []
    },
    "kernelspec": {
      "display_name": "Python 3",
      "language": "python",
      "name": "python3"
    },
    "language_info": {
      "codemirror_mode": {
        "name": "ipython",
        "version": 3
      },
      "file_extension": ".py",
      "mimetype": "text/x-python",
      "name": "python",
      "nbconvert_exporter": "python",
      "pygments_lexer": "ipython3",
      "version": "3.11.2"
    }
  },
  "nbformat": 4,
  "nbformat_minor": 0
}
